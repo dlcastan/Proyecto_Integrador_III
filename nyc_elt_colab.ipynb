{
 "cells": [
  {
   "cell_type": "markdown",
   "id": "3e9948bd",
   "metadata": {},
   "source": [
    "# Proyecto Integrador de Henry\n",
    "\n",
    "## Carrera: Data Engineer\n",
    "## Alumno: Diego Lopez Castan\n",
    "\n",
    "- **RAW**: `raw.ab_nyc`\n",
    "- **CORE**: `dim_date`, `dim_host`, `dim_location`, `dim_room_type`, `fact_listing_snapshot`\n",
    "- **MARTS (GOLD)**: vistas que responden las 8 preguntas del negocio\n"
   ]
  },
  {
   "cell_type": "code",
   "execution_count": 1,
   "id": "ef8627dd",
   "metadata": {},
   "outputs": [],
   "source": [
    "# Instalar dependencias\n",
    "!pip install psycopg2-binary sqlalchemy pandas matplotlib --quiet\n"
   ]
  },
  {
   "cell_type": "markdown",
   "id": "4be6dc9d",
   "metadata": {},
   "source": [
    "## Conexión a Postgres (RDS)\n",
    "\n",
    "Completá tus credenciales a continuación. Si tu instancia RDS exige SSL (lo normal), deja `sslmode='require'`.\n"
   ]
  },
  {
   "cell_type": "code",
   "execution_count": null,
   "id": "353533e5",
   "metadata": {},
   "outputs": [],
   "source": [
    "#Parámetros de conexión (editá estos valores)\n",
    "PGHOST      = \n",
    "PGPORT      = \n",
    "PGDATABASE  =\n",
    "PGUSER      = \n",
    "PGPASSWORD  = \n",
    "PGSSLMODE   = \n",
    "\n",
    "from sqlalchemy import create_engine, text\n",
    "import pandas as pd\n",
    "\n",
    "def get_engine():\n",
    "    url = f\"postgresql+psycopg2://{PGUSER}:{PGPASSWORD}@{PGHOST}:{PGPORT}/{PGDATABASE}?sslmode={PGSSLMODE}\"\n",
    "    return create_engine(url, pool_pre_ping=True)\n",
    "\n",
    "def run_query(q, params=None, limit_preview=5):\n",
    "    engine = get_engine()\n",
    "    with engine.connect() as conn:\n",
    "        df = pd.read_sql(text(q), conn, params=params or {})\n",
    "    if limit_preview and len(df) > limit_preview:\n",
    "        print(f\"Mostrando {limit_preview} de {len(df)} filas.\")\n",
    "        return df.head(limit_preview)\n",
    "    return df\n",
    "\n",
    "\n",
    "\n"
   ]
  },
  {
   "cell_type": "markdown",
   "id": "97a9b2f9",
   "metadata": {},
   "source": [
    "## RAW — Tabla `raw.ab_nyc`"
   ]
  },
  {
   "cell_type": "code",
   "execution_count": 19,
   "id": "22951bc4",
   "metadata": {},
   "outputs": [
    {
     "data": {
      "text/html": [
       "<div>\n",
       "<style scoped>\n",
       "    .dataframe tbody tr th:only-of-type {\n",
       "        vertical-align: middle;\n",
       "    }\n",
       "\n",
       "    .dataframe tbody tr th {\n",
       "        vertical-align: top;\n",
       "    }\n",
       "\n",
       "    .dataframe thead th {\n",
       "        text-align: right;\n",
       "    }\n",
       "</style>\n",
       "<table border=\"1\" class=\"dataframe\">\n",
       "  <thead>\n",
       "    <tr style=\"text-align: right;\">\n",
       "      <th></th>\n",
       "      <th>rows_raw</th>\n",
       "    </tr>\n",
       "  </thead>\n",
       "  <tbody>\n",
       "    <tr>\n",
       "      <th>0</th>\n",
       "      <td>48895</td>\n",
       "    </tr>\n",
       "  </tbody>\n",
       "</table>\n",
       "</div>"
      ],
      "text/plain": [
       "   rows_raw\n",
       "0     48895"
      ]
     },
     "execution_count": 19,
     "metadata": {},
     "output_type": "execute_result"
    }
   ],
   "source": [
    "# Controlo la cantidad de registros \n",
    "run_query(\"select count(*) as rows_raw from raw.ab_nyc\")"
   ]
  },
  {
   "cell_type": "code",
   "execution_count": 20,
   "id": "0338f3b8",
   "metadata": {},
   "outputs": [
    {
     "name": "stdout",
     "output_type": "stream",
     "text": [
      "Mostrando 5 de 10 filas.\n"
     ]
    },
    {
     "data": {
      "text/html": [
       "<div>\n",
       "<style scoped>\n",
       "    .dataframe tbody tr th:only-of-type {\n",
       "        vertical-align: middle;\n",
       "    }\n",
       "\n",
       "    .dataframe tbody tr th {\n",
       "        vertical-align: top;\n",
       "    }\n",
       "\n",
       "    .dataframe thead th {\n",
       "        text-align: right;\n",
       "    }\n",
       "</style>\n",
       "<table border=\"1\" class=\"dataframe\">\n",
       "  <thead>\n",
       "    <tr style=\"text-align: right;\">\n",
       "      <th></th>\n",
       "      <th>id</th>\n",
       "      <th>name</th>\n",
       "      <th>host_id</th>\n",
       "      <th>host_name</th>\n",
       "      <th>neighbourhood_group</th>\n",
       "      <th>neighbourhood</th>\n",
       "      <th>latitude</th>\n",
       "      <th>longitude</th>\n",
       "      <th>room_type</th>\n",
       "      <th>price</th>\n",
       "      <th>minimum_nights</th>\n",
       "      <th>number_of_reviews</th>\n",
       "      <th>last_review</th>\n",
       "      <th>reviews_per_month</th>\n",
       "      <th>calculated_host_listings_count</th>\n",
       "      <th>availability_365</th>\n",
       "    </tr>\n",
       "  </thead>\n",
       "  <tbody>\n",
       "    <tr>\n",
       "      <th>0</th>\n",
       "      <td>2539</td>\n",
       "      <td>Clean &amp; quiet apt home by the park</td>\n",
       "      <td>2787</td>\n",
       "      <td>John</td>\n",
       "      <td>Brooklyn</td>\n",
       "      <td>Kensington</td>\n",
       "      <td>40.64749</td>\n",
       "      <td>-73.97237</td>\n",
       "      <td>Private room</td>\n",
       "      <td>149</td>\n",
       "      <td>1</td>\n",
       "      <td>9</td>\n",
       "      <td>2018-10-19</td>\n",
       "      <td>0.21</td>\n",
       "      <td>6</td>\n",
       "      <td>365</td>\n",
       "    </tr>\n",
       "    <tr>\n",
       "      <th>1</th>\n",
       "      <td>2595</td>\n",
       "      <td>Skylit Midtown Castle</td>\n",
       "      <td>2845</td>\n",
       "      <td>Jennifer</td>\n",
       "      <td>Manhattan</td>\n",
       "      <td>Midtown</td>\n",
       "      <td>40.75362</td>\n",
       "      <td>-73.98377</td>\n",
       "      <td>Entire home/apt</td>\n",
       "      <td>225</td>\n",
       "      <td>1</td>\n",
       "      <td>45</td>\n",
       "      <td>2019-05-21</td>\n",
       "      <td>0.38</td>\n",
       "      <td>2</td>\n",
       "      <td>355</td>\n",
       "    </tr>\n",
       "    <tr>\n",
       "      <th>2</th>\n",
       "      <td>3647</td>\n",
       "      <td>THE VILLAGE OF HARLEM....NEW YORK !</td>\n",
       "      <td>4632</td>\n",
       "      <td>Elisabeth</td>\n",
       "      <td>Manhattan</td>\n",
       "      <td>Harlem</td>\n",
       "      <td>40.80902</td>\n",
       "      <td>-73.94190</td>\n",
       "      <td>Private room</td>\n",
       "      <td>150</td>\n",
       "      <td>3</td>\n",
       "      <td>0</td>\n",
       "      <td>None</td>\n",
       "      <td>NaN</td>\n",
       "      <td>1</td>\n",
       "      <td>365</td>\n",
       "    </tr>\n",
       "    <tr>\n",
       "      <th>3</th>\n",
       "      <td>3831</td>\n",
       "      <td>Cozy Entire Floor of Brownstone</td>\n",
       "      <td>4869</td>\n",
       "      <td>LisaRoxanne</td>\n",
       "      <td>Brooklyn</td>\n",
       "      <td>Clinton Hill</td>\n",
       "      <td>40.68514</td>\n",
       "      <td>-73.95976</td>\n",
       "      <td>Entire home/apt</td>\n",
       "      <td>89</td>\n",
       "      <td>1</td>\n",
       "      <td>270</td>\n",
       "      <td>2019-07-05</td>\n",
       "      <td>4.64</td>\n",
       "      <td>1</td>\n",
       "      <td>194</td>\n",
       "    </tr>\n",
       "    <tr>\n",
       "      <th>4</th>\n",
       "      <td>5022</td>\n",
       "      <td>Entire Apt: Spacious Studio/Loft by central park</td>\n",
       "      <td>7192</td>\n",
       "      <td>Laura</td>\n",
       "      <td>Manhattan</td>\n",
       "      <td>East Harlem</td>\n",
       "      <td>40.79851</td>\n",
       "      <td>-73.94399</td>\n",
       "      <td>Entire home/apt</td>\n",
       "      <td>80</td>\n",
       "      <td>10</td>\n",
       "      <td>9</td>\n",
       "      <td>2018-11-19</td>\n",
       "      <td>0.10</td>\n",
       "      <td>1</td>\n",
       "      <td>0</td>\n",
       "    </tr>\n",
       "  </tbody>\n",
       "</table>\n",
       "</div>"
      ],
      "text/plain": [
       "     id                                              name  host_id  \\\n",
       "0  2539                Clean & quiet apt home by the park     2787   \n",
       "1  2595                             Skylit Midtown Castle     2845   \n",
       "2  3647               THE VILLAGE OF HARLEM....NEW YORK !     4632   \n",
       "3  3831                   Cozy Entire Floor of Brownstone     4869   \n",
       "4  5022  Entire Apt: Spacious Studio/Loft by central park     7192   \n",
       "\n",
       "     host_name neighbourhood_group neighbourhood  latitude  longitude  \\\n",
       "0         John            Brooklyn    Kensington  40.64749  -73.97237   \n",
       "1     Jennifer           Manhattan       Midtown  40.75362  -73.98377   \n",
       "2    Elisabeth           Manhattan        Harlem  40.80902  -73.94190   \n",
       "3  LisaRoxanne            Brooklyn  Clinton Hill  40.68514  -73.95976   \n",
       "4        Laura           Manhattan   East Harlem  40.79851  -73.94399   \n",
       "\n",
       "         room_type  price  minimum_nights  number_of_reviews last_review  \\\n",
       "0     Private room    149               1                  9  2018-10-19   \n",
       "1  Entire home/apt    225               1                 45  2019-05-21   \n",
       "2     Private room    150               3                  0        None   \n",
       "3  Entire home/apt     89               1                270  2019-07-05   \n",
       "4  Entire home/apt     80              10                  9  2018-11-19   \n",
       "\n",
       "   reviews_per_month  calculated_host_listings_count  availability_365  \n",
       "0               0.21                               6               365  \n",
       "1               0.38                               2               355  \n",
       "2                NaN                               1               365  \n",
       "3               4.64                               1               194  \n",
       "4               0.10                               1                 0  "
      ]
     },
     "execution_count": 20,
     "metadata": {},
     "output_type": "execute_result"
    }
   ],
   "source": [
    "# Controlo los datos raw\n",
    "run_query(\"select * from raw.ab_nyc limit 10\")"
   ]
  },
  {
   "cell_type": "markdown",
   "id": "d4c895f1",
   "metadata": {},
   "source": [
    "## CORE — Tablas base"
   ]
  },
  {
   "cell_type": "code",
   "execution_count": 21,
   "id": "4f5d5b6c",
   "metadata": {},
   "outputs": [
    {
     "name": "stdout",
     "output_type": "stream",
     "text": [
      "Mostrando 5 de 10 filas.\n"
     ]
    },
    {
     "data": {
      "text/html": [
       "<div>\n",
       "<style scoped>\n",
       "    .dataframe tbody tr th:only-of-type {\n",
       "        vertical-align: middle;\n",
       "    }\n",
       "\n",
       "    .dataframe tbody tr th {\n",
       "        vertical-align: top;\n",
       "    }\n",
       "\n",
       "    .dataframe thead th {\n",
       "        text-align: right;\n",
       "    }\n",
       "</style>\n",
       "<table border=\"1\" class=\"dataframe\">\n",
       "  <thead>\n",
       "    <tr style=\"text-align: right;\">\n",
       "      <th></th>\n",
       "      <th>date_sk</th>\n",
       "      <th>full_date</th>\n",
       "      <th>year</th>\n",
       "      <th>quarter</th>\n",
       "      <th>month</th>\n",
       "      <th>day</th>\n",
       "      <th>day_of_week</th>\n",
       "      <th>week_of_year</th>\n",
       "      <th>is_weekend</th>\n",
       "    </tr>\n",
       "  </thead>\n",
       "  <tbody>\n",
       "    <tr>\n",
       "      <th>0</th>\n",
       "      <td>20150101</td>\n",
       "      <td>2015-01-01</td>\n",
       "      <td>2015</td>\n",
       "      <td>1</td>\n",
       "      <td>1</td>\n",
       "      <td>1</td>\n",
       "      <td>4</td>\n",
       "      <td>1</td>\n",
       "      <td>False</td>\n",
       "    </tr>\n",
       "    <tr>\n",
       "      <th>1</th>\n",
       "      <td>20150102</td>\n",
       "      <td>2015-01-02</td>\n",
       "      <td>2015</td>\n",
       "      <td>1</td>\n",
       "      <td>1</td>\n",
       "      <td>2</td>\n",
       "      <td>5</td>\n",
       "      <td>1</td>\n",
       "      <td>False</td>\n",
       "    </tr>\n",
       "    <tr>\n",
       "      <th>2</th>\n",
       "      <td>20150103</td>\n",
       "      <td>2015-01-03</td>\n",
       "      <td>2015</td>\n",
       "      <td>1</td>\n",
       "      <td>1</td>\n",
       "      <td>3</td>\n",
       "      <td>6</td>\n",
       "      <td>1</td>\n",
       "      <td>True</td>\n",
       "    </tr>\n",
       "    <tr>\n",
       "      <th>3</th>\n",
       "      <td>20150104</td>\n",
       "      <td>2015-01-04</td>\n",
       "      <td>2015</td>\n",
       "      <td>1</td>\n",
       "      <td>1</td>\n",
       "      <td>4</td>\n",
       "      <td>7</td>\n",
       "      <td>1</td>\n",
       "      <td>True</td>\n",
       "    </tr>\n",
       "    <tr>\n",
       "      <th>4</th>\n",
       "      <td>20150105</td>\n",
       "      <td>2015-01-05</td>\n",
       "      <td>2015</td>\n",
       "      <td>1</td>\n",
       "      <td>1</td>\n",
       "      <td>5</td>\n",
       "      <td>1</td>\n",
       "      <td>2</td>\n",
       "      <td>False</td>\n",
       "    </tr>\n",
       "  </tbody>\n",
       "</table>\n",
       "</div>"
      ],
      "text/plain": [
       "    date_sk   full_date  year  quarter  month  day  day_of_week  week_of_year  \\\n",
       "0  20150101  2015-01-01  2015        1      1    1            4             1   \n",
       "1  20150102  2015-01-02  2015        1      1    2            5             1   \n",
       "2  20150103  2015-01-03  2015        1      1    3            6             1   \n",
       "3  20150104  2015-01-04  2015        1      1    4            7             1   \n",
       "4  20150105  2015-01-05  2015        1      1    5            1             2   \n",
       "\n",
       "   is_weekend  \n",
       "0       False  \n",
       "1       False  \n",
       "2        True  \n",
       "3        True  \n",
       "4       False  "
      ]
     },
     "execution_count": 21,
     "metadata": {},
     "output_type": "execute_result"
    }
   ],
   "source": [
    "# Verifico las tablas de dimensiones\n",
    "run_query(\"select * from dim_date limit 10\")"
   ]
  },
  {
   "cell_type": "code",
   "execution_count": 22,
   "id": "b303de8d",
   "metadata": {},
   "outputs": [
    {
     "name": "stdout",
     "output_type": "stream",
     "text": [
      "Mostrando 5 de 10 filas.\n"
     ]
    },
    {
     "data": {
      "text/html": [
       "<div>\n",
       "<style scoped>\n",
       "    .dataframe tbody tr th:only-of-type {\n",
       "        vertical-align: middle;\n",
       "    }\n",
       "\n",
       "    .dataframe tbody tr th {\n",
       "        vertical-align: top;\n",
       "    }\n",
       "\n",
       "    .dataframe thead th {\n",
       "        text-align: right;\n",
       "    }\n",
       "</style>\n",
       "<table border=\"1\" class=\"dataframe\">\n",
       "  <thead>\n",
       "    <tr style=\"text-align: right;\">\n",
       "      <th></th>\n",
       "      <th>host_sk</th>\n",
       "      <th>host_id</th>\n",
       "      <th>host_name</th>\n",
       "      <th>listings_count</th>\n",
       "      <th>is_multilister</th>\n",
       "      <th>updated_at</th>\n",
       "    </tr>\n",
       "  </thead>\n",
       "  <tbody>\n",
       "    <tr>\n",
       "      <th>0</th>\n",
       "      <td>969bcd8cc5d32270930d73c095001655</td>\n",
       "      <td>72082556</td>\n",
       "      <td>Nicole</td>\n",
       "      <td>1</td>\n",
       "      <td>False</td>\n",
       "      <td>2025-09-04 19:47:16.912838+00:00</td>\n",
       "    </tr>\n",
       "    <tr>\n",
       "      <th>1</th>\n",
       "      <td>fab061e5732c323acae7c4aeecd0a6f9</td>\n",
       "      <td>104607422</td>\n",
       "      <td>Tunde</td>\n",
       "      <td>1</td>\n",
       "      <td>False</td>\n",
       "      <td>2025-09-04 19:47:16.912838+00:00</td>\n",
       "    </tr>\n",
       "    <tr>\n",
       "      <th>2</th>\n",
       "      <td>e45d32e4324f4d0228394a2ea5397787</td>\n",
       "      <td>243875619</td>\n",
       "      <td>David</td>\n",
       "      <td>2</td>\n",
       "      <td>False</td>\n",
       "      <td>2025-09-04 19:47:16.912838+00:00</td>\n",
       "    </tr>\n",
       "    <tr>\n",
       "      <th>3</th>\n",
       "      <td>481f283ed4a4605849f0bb26c9384c7b</td>\n",
       "      <td>121771546</td>\n",
       "      <td>Cherri</td>\n",
       "      <td>2</td>\n",
       "      <td>False</td>\n",
       "      <td>2025-09-04 19:47:16.912838+00:00</td>\n",
       "    </tr>\n",
       "    <tr>\n",
       "      <th>4</th>\n",
       "      <td>ac4573e248986d96713ad2956a94467d</td>\n",
       "      <td>103170539</td>\n",
       "      <td>Lalit</td>\n",
       "      <td>1</td>\n",
       "      <td>False</td>\n",
       "      <td>2025-09-04 19:47:16.912838+00:00</td>\n",
       "    </tr>\n",
       "  </tbody>\n",
       "</table>\n",
       "</div>"
      ],
      "text/plain": [
       "                            host_sk    host_id host_name  listings_count  \\\n",
       "0  969bcd8cc5d32270930d73c095001655   72082556    Nicole               1   \n",
       "1  fab061e5732c323acae7c4aeecd0a6f9  104607422     Tunde               1   \n",
       "2  e45d32e4324f4d0228394a2ea5397787  243875619     David               2   \n",
       "3  481f283ed4a4605849f0bb26c9384c7b  121771546    Cherri               2   \n",
       "4  ac4573e248986d96713ad2956a94467d  103170539     Lalit               1   \n",
       "\n",
       "   is_multilister                       updated_at  \n",
       "0           False 2025-09-04 19:47:16.912838+00:00  \n",
       "1           False 2025-09-04 19:47:16.912838+00:00  \n",
       "2           False 2025-09-04 19:47:16.912838+00:00  \n",
       "3           False 2025-09-04 19:47:16.912838+00:00  \n",
       "4           False 2025-09-04 19:47:16.912838+00:00  "
      ]
     },
     "execution_count": 22,
     "metadata": {},
     "output_type": "execute_result"
    }
   ],
   "source": [
    "run_query(\"select * from dim_host limit 10\")"
   ]
  },
  {
   "cell_type": "code",
   "execution_count": 23,
   "id": "46bdba93",
   "metadata": {},
   "outputs": [
    {
     "name": "stdout",
     "output_type": "stream",
     "text": [
      "Mostrando 5 de 10 filas.\n"
     ]
    },
    {
     "data": {
      "text/html": [
       "<div>\n",
       "<style scoped>\n",
       "    .dataframe tbody tr th:only-of-type {\n",
       "        vertical-align: middle;\n",
       "    }\n",
       "\n",
       "    .dataframe tbody tr th {\n",
       "        vertical-align: top;\n",
       "    }\n",
       "\n",
       "    .dataframe thead th {\n",
       "        text-align: right;\n",
       "    }\n",
       "</style>\n",
       "<table border=\"1\" class=\"dataframe\">\n",
       "  <thead>\n",
       "    <tr style=\"text-align: right;\">\n",
       "      <th></th>\n",
       "      <th>location_sk</th>\n",
       "      <th>neighbourhood_group</th>\n",
       "      <th>neighbourhood</th>\n",
       "    </tr>\n",
       "  </thead>\n",
       "  <tbody>\n",
       "    <tr>\n",
       "      <th>0</th>\n",
       "      <td>31493eb6f78e5e39b7088a988d7a72b9</td>\n",
       "      <td>Bronx</td>\n",
       "      <td>Fieldston</td>\n",
       "    </tr>\n",
       "    <tr>\n",
       "      <th>1</th>\n",
       "      <td>a2063c6cd53aba708c880f6694c99814</td>\n",
       "      <td>Staten Island</td>\n",
       "      <td>St. George</td>\n",
       "    </tr>\n",
       "    <tr>\n",
       "      <th>2</th>\n",
       "      <td>db29bdd2de1d754c0d5c73aefc6d7ea4</td>\n",
       "      <td>Brooklyn</td>\n",
       "      <td>Crown Heights</td>\n",
       "    </tr>\n",
       "    <tr>\n",
       "      <th>3</th>\n",
       "      <td>a1f8ac30ae1091cabde9ae40b1a34106</td>\n",
       "      <td>Bronx</td>\n",
       "      <td>Unionport</td>\n",
       "    </tr>\n",
       "    <tr>\n",
       "      <th>4</th>\n",
       "      <td>dd5056040f83b4efa18e6b183beeffb3</td>\n",
       "      <td>Brooklyn</td>\n",
       "      <td>Kensington</td>\n",
       "    </tr>\n",
       "  </tbody>\n",
       "</table>\n",
       "</div>"
      ],
      "text/plain": [
       "                        location_sk neighbourhood_group  neighbourhood\n",
       "0  31493eb6f78e5e39b7088a988d7a72b9               Bronx      Fieldston\n",
       "1  a2063c6cd53aba708c880f6694c99814       Staten Island     St. George\n",
       "2  db29bdd2de1d754c0d5c73aefc6d7ea4            Brooklyn  Crown Heights\n",
       "3  a1f8ac30ae1091cabde9ae40b1a34106               Bronx      Unionport\n",
       "4  dd5056040f83b4efa18e6b183beeffb3            Brooklyn     Kensington"
      ]
     },
     "execution_count": 23,
     "metadata": {},
     "output_type": "execute_result"
    }
   ],
   "source": [
    "run_query(\"select * from dim_location limit 10\")"
   ]
  },
  {
   "cell_type": "code",
   "execution_count": 24,
   "id": "c2eb384b",
   "metadata": {},
   "outputs": [
    {
     "data": {
      "text/html": [
       "<div>\n",
       "<style scoped>\n",
       "    .dataframe tbody tr th:only-of-type {\n",
       "        vertical-align: middle;\n",
       "    }\n",
       "\n",
       "    .dataframe tbody tr th {\n",
       "        vertical-align: top;\n",
       "    }\n",
       "\n",
       "    .dataframe thead th {\n",
       "        text-align: right;\n",
       "    }\n",
       "</style>\n",
       "<table border=\"1\" class=\"dataframe\">\n",
       "  <thead>\n",
       "    <tr style=\"text-align: right;\">\n",
       "      <th></th>\n",
       "      <th>room_type_sk</th>\n",
       "      <th>room_type</th>\n",
       "    </tr>\n",
       "  </thead>\n",
       "  <tbody>\n",
       "    <tr>\n",
       "      <th>0</th>\n",
       "      <td>72474b03fb5506ef546c4f68ae7baecf</td>\n",
       "      <td>Entire home/apt</td>\n",
       "    </tr>\n",
       "    <tr>\n",
       "      <th>1</th>\n",
       "      <td>0f79b3d7b156e9a7d21e611a4150852e</td>\n",
       "      <td>Shared room</td>\n",
       "    </tr>\n",
       "    <tr>\n",
       "      <th>2</th>\n",
       "      <td>3c7133b7624c70e3f35f766b06e69d36</td>\n",
       "      <td>Private room</td>\n",
       "    </tr>\n",
       "  </tbody>\n",
       "</table>\n",
       "</div>"
      ],
      "text/plain": [
       "                       room_type_sk        room_type\n",
       "0  72474b03fb5506ef546c4f68ae7baecf  Entire home/apt\n",
       "1  0f79b3d7b156e9a7d21e611a4150852e      Shared room\n",
       "2  3c7133b7624c70e3f35f766b06e69d36     Private room"
      ]
     },
     "execution_count": 24,
     "metadata": {},
     "output_type": "execute_result"
    }
   ],
   "source": [
    "run_query(\"select * from dim_room_type limit 10\")"
   ]
  },
  {
   "cell_type": "code",
   "execution_count": 25,
   "id": "c5d27660",
   "metadata": {},
   "outputs": [
    {
     "name": "stdout",
     "output_type": "stream",
     "text": [
      "Mostrando 5 de 10 filas.\n"
     ]
    },
    {
     "data": {
      "text/html": [
       "<div>\n",
       "<style scoped>\n",
       "    .dataframe tbody tr th:only-of-type {\n",
       "        vertical-align: middle;\n",
       "    }\n",
       "\n",
       "    .dataframe tbody tr th {\n",
       "        vertical-align: top;\n",
       "    }\n",
       "\n",
       "    .dataframe thead th {\n",
       "        text-align: right;\n",
       "    }\n",
       "</style>\n",
       "<table border=\"1\" class=\"dataframe\">\n",
       "  <thead>\n",
       "    <tr style=\"text-align: right;\">\n",
       "      <th></th>\n",
       "      <th>listing_id</th>\n",
       "      <th>date_sk</th>\n",
       "      <th>host_sk</th>\n",
       "      <th>location_sk</th>\n",
       "      <th>room_type_sk</th>\n",
       "      <th>price</th>\n",
       "      <th>minimum_nights</th>\n",
       "      <th>number_of_reviews</th>\n",
       "      <th>reviews_per_month</th>\n",
       "      <th>availability_365</th>\n",
       "      <th>is_price_zero</th>\n",
       "      <th>has_no_reviews</th>\n",
       "    </tr>\n",
       "  </thead>\n",
       "  <tbody>\n",
       "    <tr>\n",
       "      <th>0</th>\n",
       "      <td>23669201</td>\n",
       "      <td>20250904</td>\n",
       "      <td>3cf2559725a9fdfa602ec8c887440f32</td>\n",
       "      <td>16062820cf22739377111ad8bf9ab7ff</td>\n",
       "      <td>72474b03fb5506ef546c4f68ae7baecf</td>\n",
       "      <td>95</td>\n",
       "      <td>45</td>\n",
       "      <td>1</td>\n",
       "      <td>0.06</td>\n",
       "      <td>0</td>\n",
       "      <td>False</td>\n",
       "      <td>False</td>\n",
       "    </tr>\n",
       "    <tr>\n",
       "      <th>1</th>\n",
       "      <td>18393354</td>\n",
       "      <td>20250904</td>\n",
       "      <td>4b29fa4efe4fb7bc667c7b301b74d52d</td>\n",
       "      <td>c88ee8e5999f32df289ee7574233aa75</td>\n",
       "      <td>0f79b3d7b156e9a7d21e611a4150852e</td>\n",
       "      <td>99</td>\n",
       "      <td>1</td>\n",
       "      <td>1</td>\n",
       "      <td>0.08</td>\n",
       "      <td>365</td>\n",
       "      <td>False</td>\n",
       "      <td>False</td>\n",
       "    </tr>\n",
       "    <tr>\n",
       "      <th>2</th>\n",
       "      <td>6385039</td>\n",
       "      <td>20250904</td>\n",
       "      <td>445e1050156c6ae8c082a8422bb7dfc0</td>\n",
       "      <td>57e4968df65eb6e0428b3f9dffb98714</td>\n",
       "      <td>3c7133b7624c70e3f35f766b06e69d36</td>\n",
       "      <td>52</td>\n",
       "      <td>2</td>\n",
       "      <td>110</td>\n",
       "      <td>2.63</td>\n",
       "      <td>220</td>\n",
       "      <td>False</td>\n",
       "      <td>False</td>\n",
       "    </tr>\n",
       "    <tr>\n",
       "      <th>3</th>\n",
       "      <td>6027345</td>\n",
       "      <td>20250904</td>\n",
       "      <td>445e1050156c6ae8c082a8422bb7dfc0</td>\n",
       "      <td>57e4968df65eb6e0428b3f9dffb98714</td>\n",
       "      <td>3c7133b7624c70e3f35f766b06e69d36</td>\n",
       "      <td>65</td>\n",
       "      <td>2</td>\n",
       "      <td>280</td>\n",
       "      <td>5.51</td>\n",
       "      <td>249</td>\n",
       "      <td>False</td>\n",
       "      <td>False</td>\n",
       "    </tr>\n",
       "    <tr>\n",
       "      <th>4</th>\n",
       "      <td>33245975</td>\n",
       "      <td>20250904</td>\n",
       "      <td>98c39996bf1543e974747a2549b3107c</td>\n",
       "      <td>e0b9d82cf22f02b7c97cf709c6281500</td>\n",
       "      <td>3c7133b7624c70e3f35f766b06e69d36</td>\n",
       "      <td>69</td>\n",
       "      <td>1</td>\n",
       "      <td>1</td>\n",
       "      <td>0.67</td>\n",
       "      <td>179</td>\n",
       "      <td>False</td>\n",
       "      <td>False</td>\n",
       "    </tr>\n",
       "  </tbody>\n",
       "</table>\n",
       "</div>"
      ],
      "text/plain": [
       "   listing_id   date_sk                           host_sk  \\\n",
       "0    23669201  20250904  3cf2559725a9fdfa602ec8c887440f32   \n",
       "1    18393354  20250904  4b29fa4efe4fb7bc667c7b301b74d52d   \n",
       "2     6385039  20250904  445e1050156c6ae8c082a8422bb7dfc0   \n",
       "3     6027345  20250904  445e1050156c6ae8c082a8422bb7dfc0   \n",
       "4    33245975  20250904  98c39996bf1543e974747a2549b3107c   \n",
       "\n",
       "                        location_sk                      room_type_sk  price  \\\n",
       "0  16062820cf22739377111ad8bf9ab7ff  72474b03fb5506ef546c4f68ae7baecf     95   \n",
       "1  c88ee8e5999f32df289ee7574233aa75  0f79b3d7b156e9a7d21e611a4150852e     99   \n",
       "2  57e4968df65eb6e0428b3f9dffb98714  3c7133b7624c70e3f35f766b06e69d36     52   \n",
       "3  57e4968df65eb6e0428b3f9dffb98714  3c7133b7624c70e3f35f766b06e69d36     65   \n",
       "4  e0b9d82cf22f02b7c97cf709c6281500  3c7133b7624c70e3f35f766b06e69d36     69   \n",
       "\n",
       "   minimum_nights  number_of_reviews  reviews_per_month  availability_365  \\\n",
       "0              45                  1               0.06                 0   \n",
       "1               1                  1               0.08               365   \n",
       "2               2                110               2.63               220   \n",
       "3               2                280               5.51               249   \n",
       "4               1                  1               0.67               179   \n",
       "\n",
       "   is_price_zero  has_no_reviews  \n",
       "0          False           False  \n",
       "1          False           False  \n",
       "2          False           False  \n",
       "3          False           False  \n",
       "4          False           False  "
      ]
     },
     "execution_count": 25,
     "metadata": {},
     "output_type": "execute_result"
    }
   ],
   "source": [
    "run_query(\"select * from fact_listing_snapshot limit 10\")"
   ]
  },
  {
   "cell_type": "code",
   "execution_count": 26,
   "id": "be50edcf",
   "metadata": {},
   "outputs": [
    {
     "name": "stdout",
     "output_type": "stream",
     "text": [
      "Mostrando 5 de 10 filas.\n"
     ]
    },
    {
     "data": {
      "text/html": [
       "<div>\n",
       "<style scoped>\n",
       "    .dataframe tbody tr th:only-of-type {\n",
       "        vertical-align: middle;\n",
       "    }\n",
       "\n",
       "    .dataframe tbody tr th {\n",
       "        vertical-align: top;\n",
       "    }\n",
       "\n",
       "    .dataframe thead th {\n",
       "        text-align: right;\n",
       "    }\n",
       "</style>\n",
       "<table border=\"1\" class=\"dataframe\">\n",
       "  <thead>\n",
       "    <tr style=\"text-align: right;\">\n",
       "      <th></th>\n",
       "      <th>listing_id</th>\n",
       "      <th>date_sk</th>\n",
       "      <th>host_sk</th>\n",
       "      <th>location_sk</th>\n",
       "      <th>room_type_sk</th>\n",
       "      <th>price</th>\n",
       "      <th>minimum_nights</th>\n",
       "      <th>number_of_reviews</th>\n",
       "      <th>reviews_per_month</th>\n",
       "      <th>availability_365</th>\n",
       "      <th>is_price_zero</th>\n",
       "      <th>has_no_reviews</th>\n",
       "    </tr>\n",
       "  </thead>\n",
       "  <tbody>\n",
       "    <tr>\n",
       "      <th>0</th>\n",
       "      <td>23669201</td>\n",
       "      <td>20250904</td>\n",
       "      <td>3cf2559725a9fdfa602ec8c887440f32</td>\n",
       "      <td>16062820cf22739377111ad8bf9ab7ff</td>\n",
       "      <td>72474b03fb5506ef546c4f68ae7baecf</td>\n",
       "      <td>95</td>\n",
       "      <td>45</td>\n",
       "      <td>1</td>\n",
       "      <td>0.06</td>\n",
       "      <td>0</td>\n",
       "      <td>False</td>\n",
       "      <td>False</td>\n",
       "    </tr>\n",
       "    <tr>\n",
       "      <th>1</th>\n",
       "      <td>18393354</td>\n",
       "      <td>20250904</td>\n",
       "      <td>4b29fa4efe4fb7bc667c7b301b74d52d</td>\n",
       "      <td>c88ee8e5999f32df289ee7574233aa75</td>\n",
       "      <td>0f79b3d7b156e9a7d21e611a4150852e</td>\n",
       "      <td>99</td>\n",
       "      <td>1</td>\n",
       "      <td>1</td>\n",
       "      <td>0.08</td>\n",
       "      <td>365</td>\n",
       "      <td>False</td>\n",
       "      <td>False</td>\n",
       "    </tr>\n",
       "    <tr>\n",
       "      <th>2</th>\n",
       "      <td>6385039</td>\n",
       "      <td>20250904</td>\n",
       "      <td>445e1050156c6ae8c082a8422bb7dfc0</td>\n",
       "      <td>57e4968df65eb6e0428b3f9dffb98714</td>\n",
       "      <td>3c7133b7624c70e3f35f766b06e69d36</td>\n",
       "      <td>52</td>\n",
       "      <td>2</td>\n",
       "      <td>110</td>\n",
       "      <td>2.63</td>\n",
       "      <td>220</td>\n",
       "      <td>False</td>\n",
       "      <td>False</td>\n",
       "    </tr>\n",
       "    <tr>\n",
       "      <th>3</th>\n",
       "      <td>6027345</td>\n",
       "      <td>20250904</td>\n",
       "      <td>445e1050156c6ae8c082a8422bb7dfc0</td>\n",
       "      <td>57e4968df65eb6e0428b3f9dffb98714</td>\n",
       "      <td>3c7133b7624c70e3f35f766b06e69d36</td>\n",
       "      <td>65</td>\n",
       "      <td>2</td>\n",
       "      <td>280</td>\n",
       "      <td>5.51</td>\n",
       "      <td>249</td>\n",
       "      <td>False</td>\n",
       "      <td>False</td>\n",
       "    </tr>\n",
       "    <tr>\n",
       "      <th>4</th>\n",
       "      <td>33245975</td>\n",
       "      <td>20250904</td>\n",
       "      <td>98c39996bf1543e974747a2549b3107c</td>\n",
       "      <td>e0b9d82cf22f02b7c97cf709c6281500</td>\n",
       "      <td>3c7133b7624c70e3f35f766b06e69d36</td>\n",
       "      <td>69</td>\n",
       "      <td>1</td>\n",
       "      <td>1</td>\n",
       "      <td>0.67</td>\n",
       "      <td>179</td>\n",
       "      <td>False</td>\n",
       "      <td>False</td>\n",
       "    </tr>\n",
       "  </tbody>\n",
       "</table>\n",
       "</div>"
      ],
      "text/plain": [
       "   listing_id   date_sk                           host_sk  \\\n",
       "0    23669201  20250904  3cf2559725a9fdfa602ec8c887440f32   \n",
       "1    18393354  20250904  4b29fa4efe4fb7bc667c7b301b74d52d   \n",
       "2     6385039  20250904  445e1050156c6ae8c082a8422bb7dfc0   \n",
       "3     6027345  20250904  445e1050156c6ae8c082a8422bb7dfc0   \n",
       "4    33245975  20250904  98c39996bf1543e974747a2549b3107c   \n",
       "\n",
       "                        location_sk                      room_type_sk  price  \\\n",
       "0  16062820cf22739377111ad8bf9ab7ff  72474b03fb5506ef546c4f68ae7baecf     95   \n",
       "1  c88ee8e5999f32df289ee7574233aa75  0f79b3d7b156e9a7d21e611a4150852e     99   \n",
       "2  57e4968df65eb6e0428b3f9dffb98714  3c7133b7624c70e3f35f766b06e69d36     52   \n",
       "3  57e4968df65eb6e0428b3f9dffb98714  3c7133b7624c70e3f35f766b06e69d36     65   \n",
       "4  e0b9d82cf22f02b7c97cf709c6281500  3c7133b7624c70e3f35f766b06e69d36     69   \n",
       "\n",
       "   minimum_nights  number_of_reviews  reviews_per_month  availability_365  \\\n",
       "0              45                  1               0.06                 0   \n",
       "1               1                  1               0.08               365   \n",
       "2               2                110               2.63               220   \n",
       "3               2                280               5.51               249   \n",
       "4               1                  1               0.67               179   \n",
       "\n",
       "   is_price_zero  has_no_reviews  \n",
       "0          False           False  \n",
       "1          False           False  \n",
       "2          False           False  \n",
       "3          False           False  \n",
       "4          False           False  "
      ]
     },
     "execution_count": 26,
     "metadata": {},
     "output_type": "execute_result"
    }
   ],
   "source": [
    "# Verifico las tablas de hechos\n",
    "run_query(\"select * from fact_listing_snapshot limit 10\")"
   ]
  },
  {
   "cell_type": "markdown",
   "id": "02641ffc",
   "metadata": {},
   "source": [
    "## MARTS — Vistas analíticas (8 preguntas)"
   ]
  },
  {
   "cell_type": "markdown",
   "id": "7644affd",
   "metadata": {},
   "source": [
    "### 1) Precio promedio por barrio y distrito"
   ]
  },
  {
   "cell_type": "code",
   "execution_count": 28,
   "id": "13399b09",
   "metadata": {},
   "outputs": [
    {
     "name": "stdout",
     "output_type": "stream",
     "text": [
      "Mostrando 5 de 221 filas.\n"
     ]
    }
   ],
   "source": [
    "df_price_area = run_query(\"\"\"\n",
    "select dl.neighbourhood_group, dl.neighbourhood, avg(f.price)::numeric(10,2) as avg_price\n",
    "from fact_listing_snapshot f\n",
    "join dim_location dl on dl.location_sk = f.location_sk\n",
    "group by 1,2\n",
    "order by 1,2\n",
    "\"\"\")"
   ]
  },
  {
   "cell_type": "code",
   "execution_count": 29,
   "metadata": {},
   "outputs": [
    {
     "data": {
      "image/png": "[encoded data removed]",
      "text/plain": [
       "<Figure size 1200x600 with 1 Axes>"
      ]
     },
     "metadata": {},
     "output_type": "display_data"
    }
   ],
   "source": [
    "import matplotlib.pyplot as plt\n",
    "\n",
    "# Agrupamos por neighbourhood_group y neighbourhood para graficar\n",
    "df_price_area.plot(\n",
    "    x=\"neighbourhood\",\n",
    "    y=\"avg_price\",\n",
    "    kind=\"bar\",\n",
    "    figsize=(12,6),\n",
    "    title=\"Precio promedio por barrio\",\n",
    "    legend=False\n",
    ")\n",
    "\n",
    "plt.ylabel(\"Precio promedio (USD)\")\n",
    "plt.xticks(rotation=45, ha=\"right\")\n",
    "plt.show()\n"
   ]
  },
  {
   "cell_type": "markdown",
   "id": "c3e03cd6",
   "metadata": {},
   "source": [
    "### 2) Tipo de habitación más ofrecido y revenue estimado"
   ]
  },
  {
   "cell_type": "code",
   "execution_count": null,
   "id": "6480991b",
   "metadata": {},
   "outputs": [
    {
     "data": {
      "text/plain": [
       "<Figure size 640x480 with 0 Axes>"
      ]
     },
     "metadata": {},
     "output_type": "display_data"
    },
    {
     "data": {
      "image/png": "[encoded data removed]",
      "text/plain": [
       "<Figure size 640x480 with 1 Axes>"
      ]
     },
     "metadata": {},
     "output_type": "display_data"
    }
   ],
   "source": [
    "df_room_rev = run_query(\"\"\"\n",
    "with base as (\n",
    "  select room_type_sk, count(*) as listings,\n",
    "         sum(greatest(365 - availability_365,0) * price)::numeric(18,2) as revenue_est\n",
    "  from fact_listing_snapshot group by room_type_sk\n",
    ")\n",
    "select dr.room_type, b.listings, b.revenue_est\n",
    "from base b join dim_room_type dr on dr.room_type_sk = b.room_type_sk\n",
    "order by listings desc\n",
    "\"\"\")\n",
    "plot_bar(df_room_rev,'room_type','listings','Cantidad de listings por tipo de habitación')"
   ]
  },
  {
   "cell_type": "markdown",
   "id": "6ae0b387",
   "metadata": {},
   "source": [
    "### 3) Anfitriones con más propiedades y variación de precios"
   ]
  },
  {
   "cell_type": "code",
   "execution_count": null,
   "id": "cb1648c3",
   "metadata": {},
   "outputs": [
    {
     "name": "stdout",
     "output_type": "stream",
     "text": [
      "Mostrando 5 de 50 filas.\n"
     ]
    },
    {
     "data": {
      "text/plain": [
       "<Figure size 640x480 with 0 Axes>"
      ]
     },
     "metadata": {},
     "output_type": "display_data"
    },
    {
     "data": {
      "image/png": "[encoded data removed]",
      "text/plain": [
       "<Figure size 640x480 with 1 Axes>"
      ]
     },
     "metadata": {},
     "output_type": "display_data"
    }
   ],
   "source": [
    "df_hosts = run_query(\"\"\"\n",
    "select dh.host_id, dh.host_name, dh.listings_count,\n",
    "       avg(f.price)::numeric(10,2) as avg_price,\n",
    "       percentile_cont(0.5) within group(order by f.price) as p50_price\n",
    "from fact_listing_snapshot f join dim_host dh on dh.host_sk=f.host_sk\n",
    "group by dh.host_id, dh.host_name, dh.listings_count\n",
    "order by dh.listings_count desc limit 50\n",
    "\"\"\")\n",
    "plot_bar(df_hosts.head(20),'host_id','listings_count','Top hosts por inventario')"
   ]
  },
  {
   "cell_type": "markdown",
   "id": "0fb38b53",
   "metadata": {},
   "source": [
    "### 4) Disponibilidad anual por barrios y tipos"
   ]
  },
  {
   "cell_type": "code",
   "execution_count": 30,
   "id": "a71df725",
   "metadata": {},
   "outputs": [
    {
     "name": "stdout",
     "output_type": "stream",
     "text": [
      "Mostrando 5 de 540 filas.\n"
     ]
    }
   ],
   "source": [
    "df_avl = run_query(\"\"\"\n",
    "select dl.neighbourhood_group, dl.neighbourhood, dr.room_type,\n",
    "       avg(f.availability_365)::numeric(10,2) as avg_availability\n",
    "from fact_listing_snapshot f\n",
    "join dim_location dl on dl.location_sk=f.location_sk\n",
    "join dim_room_type dr on dr.room_type_sk=f.room_type_sk\n",
    "group by 1,2,3 order by 1,2,3\n",
    "\"\"\")"
   ]
  },
  {
   "cell_type": "code",
   "execution_count": 31,
   "metadata": {},
   "outputs": [
    {
     "data": {
      "text/html": [
       "<div>\n",
       "<style scoped>\n",
       "    .dataframe tbody tr th:only-of-type {\n",
       "        vertical-align: middle;\n",
       "    }\n",
       "\n",
       "    .dataframe tbody tr th {\n",
       "        vertical-align: top;\n",
       "    }\n",
       "\n",
       "    .dataframe thead th {\n",
       "        text-align: right;\n",
       "    }\n",
       "</style>\n",
       "<table border=\"1\" class=\"dataframe\">\n",
       "  <thead>\n",
       "    <tr style=\"text-align: right;\">\n",
       "      <th></th>\n",
       "      <th>neighbourhood_group</th>\n",
       "      <th>neighbourhood</th>\n",
       "      <th>room_type</th>\n",
       "      <th>avg_availability</th>\n",
       "    </tr>\n",
       "  </thead>\n",
       "  <tbody>\n",
       "    <tr>\n",
       "      <th>0</th>\n",
       "      <td>Bronx</td>\n",
       "      <td>Allerton</td>\n",
       "      <td>Entire home/apt</td>\n",
       "      <td>193.94</td>\n",
       "    </tr>\n",
       "    <tr>\n",
       "      <th>1</th>\n",
       "      <td>Bronx</td>\n",
       "      <td>Allerton</td>\n",
       "      <td>Private room</td>\n",
       "      <td>145.04</td>\n",
       "    </tr>\n",
       "    <tr>\n",
       "      <th>2</th>\n",
       "      <td>Bronx</td>\n",
       "      <td>Baychester</td>\n",
       "      <td>Entire home/apt</td>\n",
       "      <td>103.00</td>\n",
       "    </tr>\n",
       "    <tr>\n",
       "      <th>3</th>\n",
       "      <td>Bronx</td>\n",
       "      <td>Baychester</td>\n",
       "      <td>Private room</td>\n",
       "      <td>199.00</td>\n",
       "    </tr>\n",
       "    <tr>\n",
       "      <th>4</th>\n",
       "      <td>Bronx</td>\n",
       "      <td>Belmont</td>\n",
       "      <td>Entire home/apt</td>\n",
       "      <td>311.67</td>\n",
       "    </tr>\n",
       "  </tbody>\n",
       "</table>\n",
       "</div>"
      ],
      "text/plain": [
       "  neighbourhood_group neighbourhood        room_type  avg_availability\n",
       "0               Bronx      Allerton  Entire home/apt            193.94\n",
       "1               Bronx      Allerton     Private room            145.04\n",
       "2               Bronx    Baychester  Entire home/apt            103.00\n",
       "3               Bronx    Baychester     Private room            199.00\n",
       "4               Bronx       Belmont  Entire home/apt            311.67"
      ]
     },
     "execution_count": 31,
     "metadata": {},
     "output_type": "execute_result"
    }
   ],
   "source": [
    "df_avl"
   ]
  },
  {
   "cell_type": "markdown",
   "id": "868fdaa5",
   "metadata": {},
   "source": [
    "### 5) Evolución de reseñas por mes y distrito"
   ]
  },
  {
   "cell_type": "code",
   "execution_count": 33,
   "id": "21870ffe",
   "metadata": {},
   "outputs": [],
   "source": [
    "df_reviews = run_query(\"\"\"\n",
    "select dd.year, dd.month, dl.neighbourhood_group,\n",
    "       sum(coalesce(f.reviews_per_month,0))::numeric(10,2) as reviews_pm\n",
    "from fact_listing_snapshot f\n",
    "join dim_date dd on dd.date_sk=f.date_sk\n",
    "join dim_location dl on dl.location_sk=f.location_sk\n",
    "group by 1,2,3 order by 1,2,3\n",
    "\"\"\")"
   ]
  },
  {
   "cell_type": "code",
   "execution_count": 34,
   "metadata": {},
   "outputs": [
    {
     "data": {
      "text/html": [
       "<div>\n",
       "<style scoped>\n",
       "    .dataframe tbody tr th:only-of-type {\n",
       "        vertical-align: middle;\n",
       "    }\n",
       "\n",
       "    .dataframe tbody tr th {\n",
       "        vertical-align: top;\n",
       "    }\n",
       "\n",
       "    .dataframe thead th {\n",
       "        text-align: right;\n",
       "    }\n",
       "</style>\n",
       "<table border=\"1\" class=\"dataframe\">\n",
       "  <thead>\n",
       "    <tr style=\"text-align: right;\">\n",
       "      <th></th>\n",
       "      <th>year</th>\n",
       "      <th>month</th>\n",
       "      <th>neighbourhood_group</th>\n",
       "      <th>reviews_pm</th>\n",
       "    </tr>\n",
       "  </thead>\n",
       "  <tbody>\n",
       "    <tr>\n",
       "      <th>0</th>\n",
       "      <td>2025</td>\n",
       "      <td>9</td>\n",
       "      <td>Bronx</td>\n",
       "      <td>1609.94</td>\n",
       "    </tr>\n",
       "    <tr>\n",
       "      <th>1</th>\n",
       "      <td>2025</td>\n",
       "      <td>9</td>\n",
       "      <td>Brooklyn</td>\n",
       "      <td>21104.98</td>\n",
       "    </tr>\n",
       "    <tr>\n",
       "      <th>2</th>\n",
       "      <td>2025</td>\n",
       "      <td>9</td>\n",
       "      <td>Manhattan</td>\n",
       "      <td>21158.08</td>\n",
       "    </tr>\n",
       "    <tr>\n",
       "      <th>3</th>\n",
       "      <td>2025</td>\n",
       "      <td>9</td>\n",
       "      <td>Queens</td>\n",
       "      <td>8879.05</td>\n",
       "    </tr>\n",
       "    <tr>\n",
       "      <th>4</th>\n",
       "      <td>2025</td>\n",
       "      <td>9</td>\n",
       "      <td>Staten Island</td>\n",
       "      <td>587.99</td>\n",
       "    </tr>\n",
       "  </tbody>\n",
       "</table>\n",
       "</div>"
      ],
      "text/plain": [
       "   year  month neighbourhood_group  reviews_pm\n",
       "0  2025      9               Bronx     1609.94\n",
       "1  2025      9            Brooklyn    21104.98\n",
       "2  2025      9           Manhattan    21158.08\n",
       "3  2025      9              Queens     8879.05\n",
       "4  2025      9       Staten Island      587.99"
      ]
     },
     "execution_count": 34,
     "metadata": {},
     "output_type": "execute_result"
    }
   ],
   "source": [
    "df_reviews"
   ]
  },
  {
   "cell_type": "markdown",
   "id": "096aca6d",
   "metadata": {},
   "source": [
    "### 6) Barrios con mayor concentración de alojamientos activos"
   ]
  },
  {
   "cell_type": "code",
   "execution_count": null,
   "id": "b451cb65",
   "metadata": {},
   "outputs": [
    {
     "name": "stdout",
     "output_type": "stream",
     "text": [
      "Mostrando 5 de 218 filas.\n"
     ]
    },
    {
     "data": {
      "text/plain": [
       "<Figure size 640x480 with 0 Axes>"
      ]
     },
     "metadata": {},
     "output_type": "display_data"
    },
    {
     "data": {
      "image/png": "[encoded data removed]",
      "text/plain": [
       "<Figure size 640x480 with 1 Axes>"
      ]
     },
     "metadata": {},
     "output_type": "display_data"
    }
   ],
   "source": [
    "df_active = run_query(\"\"\"\n",
    "select dl.neighbourhood_group, dl.neighbourhood, count(*) as active_listings\n",
    "from fact_listing_snapshot f\n",
    "join dim_location dl on dl.location_sk=f.location_sk\n",
    "where price>0 and availability_365>0\n",
    "group by 1,2 order by active_listings desc\n",
    "\"\"\")\n",
    "plot_bar(df_active.head(20),'neighbourhood','active_listings','Top barrios por listings activos')"
   ]
  },
  {
   "cell_type": "markdown",
   "id": "ced0a3de",
   "metadata": {},
   "source": [
    "### 7) Distribución de precios y outliers"
   ]
  },
  {
   "cell_type": "code",
   "execution_count": 16,
   "id": "26711dc1",
   "metadata": {},
   "outputs": [],
   "source": [
    "df_outliers = run_query(\"\"\"\n",
    "with stats as (\n",
    "  select dl.neighbourhood_group,\n",
    "         percentile_cont(0.25) within group(order by f.price) as p25,\n",
    "         percentile_cont(0.50) within group(order by f.price) as p50,\n",
    "         percentile_cont(0.75) within group(order by f.price) as p75\n",
    "  from fact_listing_snapshot f\n",
    "  join dim_location dl on dl.location_sk=f.location_sk\n",
    "  group by 1\n",
    ")\n",
    "select s.neighbourhood_group, s.p25, s.p50, s.p75\n",
    "from stats s\n",
    "\"\"\")"
   ]
  },
  {
   "cell_type": "code",
   "execution_count": 17,
   "metadata": {},
   "outputs": [
    {
     "data": {
      "text/html": [
       "<div>\n",
       "<style scoped>\n",
       "    .dataframe tbody tr th:only-of-type {\n",
       "        vertical-align: middle;\n",
       "    }\n",
       "\n",
       "    .dataframe tbody tr th {\n",
       "        vertical-align: top;\n",
       "    }\n",
       "\n",
       "    .dataframe thead th {\n",
       "        text-align: right;\n",
       "    }\n",
       "</style>\n",
       "<table border=\"1\" class=\"dataframe\">\n",
       "  <thead>\n",
       "    <tr style=\"text-align: right;\">\n",
       "      <th></th>\n",
       "      <th>neighbourhood_group</th>\n",
       "      <th>p25</th>\n",
       "      <th>p50</th>\n",
       "      <th>p75</th>\n",
       "    </tr>\n",
       "  </thead>\n",
       "  <tbody>\n",
       "    <tr>\n",
       "      <th>0</th>\n",
       "      <td>Bronx</td>\n",
       "      <td>45.0</td>\n",
       "      <td>65.0</td>\n",
       "      <td>99.0</td>\n",
       "    </tr>\n",
       "    <tr>\n",
       "      <th>1</th>\n",
       "      <td>Brooklyn</td>\n",
       "      <td>60.0</td>\n",
       "      <td>90.0</td>\n",
       "      <td>150.0</td>\n",
       "    </tr>\n",
       "    <tr>\n",
       "      <th>2</th>\n",
       "      <td>Manhattan</td>\n",
       "      <td>95.0</td>\n",
       "      <td>150.0</td>\n",
       "      <td>220.0</td>\n",
       "    </tr>\n",
       "    <tr>\n",
       "      <th>3</th>\n",
       "      <td>Queens</td>\n",
       "      <td>50.0</td>\n",
       "      <td>75.0</td>\n",
       "      <td>110.0</td>\n",
       "    </tr>\n",
       "    <tr>\n",
       "      <th>4</th>\n",
       "      <td>Staten Island</td>\n",
       "      <td>50.0</td>\n",
       "      <td>75.0</td>\n",
       "      <td>110.0</td>\n",
       "    </tr>\n",
       "  </tbody>\n",
       "</table>\n",
       "</div>"
      ],
      "text/plain": [
       "  neighbourhood_group   p25    p50    p75\n",
       "0               Bronx  45.0   65.0   99.0\n",
       "1            Brooklyn  60.0   90.0  150.0\n",
       "2           Manhattan  95.0  150.0  220.0\n",
       "3              Queens  50.0   75.0  110.0\n",
       "4       Staten Island  50.0   75.0  110.0"
      ]
     },
     "execution_count": 17,
     "metadata": {},
     "output_type": "execute_result"
    }
   ],
   "source": [
    "df_outliers"
   ]
  },
  {
   "cell_type": "markdown",
   "id": "e4ef7ff6",
   "metadata": {},
   "source": [
    "### 8) Relación disponibilidad vs reseñas"
   ]
  },
  {
   "cell_type": "code",
   "execution_count": 12,
   "id": "8497caed",
   "metadata": {},
   "outputs": [],
   "source": [
    "df_corr = run_query(\"\"\"\n",
    "select dl.neighbourhood_group,\n",
    "       corr((365 - f.availability_365)::numeric, coalesce(f.reviews_per_month,0)::numeric) as corr_occ_reviews\n",
    "from fact_listing_snapshot f\n",
    "join dim_location dl on dl.location_sk=f.location_sk\n",
    "group by 1 order by 1\n",
    "\"\"\")"
   ]
  },
  {
   "cell_type": "code",
   "execution_count": 13,
   "metadata": {},
   "outputs": [
    {
     "data": {
      "text/html": [
       "<div>\n",
       "<style scoped>\n",
       "    .dataframe tbody tr th:only-of-type {\n",
       "        vertical-align: middle;\n",
       "    }\n",
       "\n",
       "    .dataframe tbody tr th {\n",
       "        vertical-align: top;\n",
       "    }\n",
       "\n",
       "    .dataframe thead th {\n",
       "        text-align: right;\n",
       "    }\n",
       "</style>\n",
       "<table border=\"1\" class=\"dataframe\">\n",
       "  <thead>\n",
       "    <tr style=\"text-align: right;\">\n",
       "      <th></th>\n",
       "      <th>neighbourhood_group</th>\n",
       "      <th>corr_occ_reviews</th>\n",
       "    </tr>\n",
       "  </thead>\n",
       "  <tbody>\n",
       "    <tr>\n",
       "      <th>0</th>\n",
       "      <td>Bronx</td>\n",
       "      <td>-0.072276</td>\n",
       "    </tr>\n",
       "    <tr>\n",
       "      <th>1</th>\n",
       "      <td>Brooklyn</td>\n",
       "      <td>-0.218585</td>\n",
       "    </tr>\n",
       "    <tr>\n",
       "      <th>2</th>\n",
       "      <td>Manhattan</td>\n",
       "      <td>-0.112628</td>\n",
       "    </tr>\n",
       "    <tr>\n",
       "      <th>3</th>\n",
       "      <td>Queens</td>\n",
       "      <td>-0.136371</td>\n",
       "    </tr>\n",
       "    <tr>\n",
       "      <th>4</th>\n",
       "      <td>Staten Island</td>\n",
       "      <td>-0.047283</td>\n",
       "    </tr>\n",
       "  </tbody>\n",
       "</table>\n",
       "</div>"
      ],
      "text/plain": [
       "  neighbourhood_group  corr_occ_reviews\n",
       "0               Bronx         -0.072276\n",
       "1            Brooklyn         -0.218585\n",
       "2           Manhattan         -0.112628\n",
       "3              Queens         -0.136371\n",
       "4       Staten Island         -0.047283"
      ]
     },
     "execution_count": 13,
     "metadata": {},
     "output_type": "execute_result"
    }
   ],
   "source": [
    "df_corr"
   ]
  }
 ],
 "metadata": {
  "kernelspec": {
   "display_name": "base",
   "language": "python",
   "name": "python3"
  },
  "language_info": {
   "codemirror_mode": {
    "name": "ipython",
    "version": 3
   },
   "file_extension": ".py",
   "mimetype": "text/x-python",
   "name": "python",
   "nbconvert_exporter": "python",
   "pygments_lexer": "ipython3",
   "version": "3.12.7"
  }
 },
 "nbformat": 4,
 "nbformat_minor": 5
}
